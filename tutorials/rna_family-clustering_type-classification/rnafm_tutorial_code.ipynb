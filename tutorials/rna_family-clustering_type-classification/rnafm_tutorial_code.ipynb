{
  "cells": [
    {
      "cell_type": "markdown",
      "id": "1d91a575",
      "metadata": {
        "id": "1d91a575",
        "papermill": {
          "duration": 0.016357,
          "end_time": "2024-03-22T17:06:14.498883",
          "exception": false,
          "start_time": "2024-03-22T17:06:14.482526",
          "status": "completed"
        },
        "tags": []
      },
      "source": [
        "# RNA-FM Tutorial"
      ]
    },
    {
      "cell_type": "markdown",
      "id": "0eef8129",
      "metadata": {
        "id": "0eef8129",
        "papermill": {
          "duration": 0.015696,
          "end_time": "2024-03-22T17:06:14.530551",
          "exception": false,
          "start_time": "2024-03-22T17:06:14.514855",
          "status": "completed"
        },
        "tags": []
      },
      "source": [
        "## Install RNA-FM"
      ]
    },
    {
      "cell_type": "code",
      "execution_count": null,
      "id": "56b9761c",
      "metadata": {
        "execution": {
          "iopub.execute_input": "2024-03-22T17:06:14.565345Z",
          "iopub.status.busy": "2024-03-22T17:06:14.564561Z",
          "iopub.status.idle": "2024-03-22T17:07:14.183557Z",
          "shell.execute_reply": "2024-03-22T17:07:14.182576Z"
        },
        "id": "56b9761c",
        "outputId": "f91bf8c2-3402-467c-e4f5-f671441b1a09",
        "papermill": {
          "duration": 59.638707,
          "end_time": "2024-03-22T17:07:14.186152",
          "exception": false,
          "start_time": "2024-03-22T17:06:14.547445",
          "status": "completed"
        },
        "tags": []
      },
      "outputs": [
        {
          "name": "stdout",
          "output_type": "stream",
          "text": [
            "Collecting rna-fm\r\n",
            "  Downloading rna_fm-0.2.1-py3-none-any.whl.metadata (10 kB)\r\n",
            "Collecting numpy==1.22.0 (from rna-fm)\r\n",
            "  Downloading numpy-1.22.0-cp310-cp310-manylinux_2_17_x86_64.manylinux2014_x86_64.whl.metadata (2.0 kB)\r\n",
            "Collecting pandas==1.3.5 (from rna-fm)\r\n",
            "  Downloading pandas-1.3.5-cp310-cp310-manylinux_2_17_x86_64.manylinux2014_x86_64.whl.metadata (12 kB)\r\n",
            "Collecting tqdm==4.62 (from rna-fm)\r\n",
            "  Downloading tqdm-4.62.0-py2.py3-none-any.whl.metadata (57 kB)\r\n",
            "\u001b[2K     \u001b[90m━━━━━━━━━━━━━━━━━━━━━━━━━━━━━━━━━━━━━━━━\u001b[0m \u001b[32m57.2/57.2 kB\u001b[0m \u001b[31m1.9 MB/s\u001b[0m eta \u001b[36m0:00:00\u001b[0m\r\n",
            "\u001b[?25hRequirement already satisfied: scikit-learn in /opt/conda/lib/python3.10/site-packages (from rna-fm) (1.2.2)\r\n",
            "Collecting ptflops (from rna-fm)\r\n",
            "  Downloading ptflops-0.7.2.2-py3-none-any.whl.metadata (7.2 kB)\r\n",
            "Requirement already satisfied: python-dateutil>=2.7.3 in /opt/conda/lib/python3.10/site-packages (from pandas==1.3.5->rna-fm) (2.9.0.post0)\r\n",
            "Requirement already satisfied: pytz>=2017.3 in /opt/conda/lib/python3.10/site-packages (from pandas==1.3.5->rna-fm) (2023.3.post1)\r\n",
            "Requirement already satisfied: torch in /opt/conda/lib/python3.10/site-packages (from ptflops->rna-fm) (2.1.2)\r\n",
            "Requirement already satisfied: scipy>=1.3.2 in /opt/conda/lib/python3.10/site-packages (from scikit-learn->rna-fm) (1.11.4)\r\n",
            "Requirement already satisfied: joblib>=1.1.1 in /opt/conda/lib/python3.10/site-packages (from scikit-learn->rna-fm) (1.3.2)\r\n",
            "Requirement already satisfied: threadpoolctl>=2.0.0 in /opt/conda/lib/python3.10/site-packages (from scikit-learn->rna-fm) (3.2.0)\r\n",
            "Requirement already satisfied: six>=1.5 in /opt/conda/lib/python3.10/site-packages (from python-dateutil>=2.7.3->pandas==1.3.5->rna-fm) (1.16.0)\r\n",
            "Requirement already satisfied: filelock in /opt/conda/lib/python3.10/site-packages (from torch->ptflops->rna-fm) (3.13.1)\r\n",
            "Requirement already satisfied: typing-extensions in /opt/conda/lib/python3.10/site-packages (from torch->ptflops->rna-fm) (4.9.0)\r\n",
            "Requirement already satisfied: sympy in /opt/conda/lib/python3.10/site-packages (from torch->ptflops->rna-fm) (1.12)\r\n",
            "Requirement already satisfied: networkx in /opt/conda/lib/python3.10/site-packages (from torch->ptflops->rna-fm) (3.2.1)\r\n",
            "Requirement already satisfied: jinja2 in /opt/conda/lib/python3.10/site-packages (from torch->ptflops->rna-fm) (3.1.2)\r\n",
            "Requirement already satisfied: fsspec in /opt/conda/lib/python3.10/site-packages (from torch->ptflops->rna-fm) (2024.3.0)\r\n",
            "Requirement already satisfied: MarkupSafe>=2.0 in /opt/conda/lib/python3.10/site-packages (from jinja2->torch->ptflops->rna-fm) (2.1.3)\r\n",
            "Requirement already satisfied: mpmath>=0.19 in /opt/conda/lib/python3.10/site-packages (from sympy->torch->ptflops->rna-fm) (1.3.0)\r\n",
            "Downloading rna_fm-0.2.1-py3-none-any.whl (46 kB)\r\n",
            "\u001b[2K   \u001b[90m━━━━━━━━━━━━━━━━━━━━━━━━━━━━━━━━━━━━━━━━\u001b[0m \u001b[32m46.6/46.6 kB\u001b[0m \u001b[31m2.9 MB/s\u001b[0m eta \u001b[36m0:00:00\u001b[0m\r\n",
            "\u001b[?25hDownloading numpy-1.22.0-cp310-cp310-manylinux_2_17_x86_64.manylinux2014_x86_64.whl (16.8 MB)\r\n",
            "\u001b[2K   \u001b[90m━━━━━━━━━━━━━━━━━━━━━━━━━━━━━━━━━━━━━━━━\u001b[0m \u001b[32m16.8/16.8 MB\u001b[0m \u001b[31m54.5 MB/s\u001b[0m eta \u001b[36m0:00:00\u001b[0m\r\n",
            "\u001b[?25hDownloading pandas-1.3.5-cp310-cp310-manylinux_2_17_x86_64.manylinux2014_x86_64.whl (11.5 MB)\r\n",
            "\u001b[2K   \u001b[90m━━━━━━━━━━━━━━━━━━━━━━━━━━━━━━━━━━━━━━━━\u001b[0m \u001b[32m11.5/11.5 MB\u001b[0m \u001b[31m91.5 MB/s\u001b[0m eta \u001b[36m0:00:00\u001b[0m\r\n",
            "\u001b[?25hDownloading tqdm-4.62.0-py2.py3-none-any.whl (76 kB)\r\n",
            "\u001b[2K   \u001b[90m━━━━━━━━━━━━━━━━━━━━━━━━━━━━━━━━━━━━━━━━\u001b[0m \u001b[32m76.0/76.0 kB\u001b[0m \u001b[31m4.6 MB/s\u001b[0m eta \u001b[36m0:00:00\u001b[0m\r\n",
            "\u001b[?25hDownloading ptflops-0.7.2.2-py3-none-any.whl (15 kB)\r\n",
            "Installing collected packages: tqdm, numpy, pandas, ptflops, rna-fm\r\n",
            "  Attempting uninstall: tqdm\r\n",
            "    Found existing installation: tqdm 4.66.1\r\n",
            "    Uninstalling tqdm-4.66.1:\r\n",
            "      Successfully uninstalled tqdm-4.66.1\r\n",
            "  Attempting uninstall: numpy\r\n",
            "    Found existing installation: numpy 1.26.4\r\n",
            "    Uninstalling numpy-1.26.4:\r\n",
            "      Successfully uninstalled numpy-1.26.4\r\n",
            "  Attempting uninstall: pandas\r\n",
            "    Found existing installation: pandas 2.1.4\r\n",
            "    Uninstalling pandas-2.1.4:\r\n",
            "      Successfully uninstalled pandas-2.1.4\r\n",
            "\u001b[31mERROR: pip's dependency resolver does not currently take into account all the packages that are installed. This behaviour is the source of the following dependency conflicts.\r\n",
            "cudf 23.8.0 requires cubinlinker, which is not installed.\r\n",
            "cudf 23.8.0 requires cupy-cuda11x>=12.0.0, which is not installed.\r\n",
            "cudf 23.8.0 requires ptxcompiler, which is not installed.\r\n",
            "cuml 23.8.0 requires cupy-cuda11x>=12.0.0, which is not installed.\r\n",
            "dask-cudf 23.8.0 requires cupy-cuda11x>=12.0.0, which is not installed.\r\n",
            "keras-cv 0.8.2 requires keras-core, which is not installed.\r\n",
            "keras-nlp 0.8.2 requires keras-core, which is not installed.\r\n",
            "tensorflow-decision-forests 1.8.1 requires wurlitzer, which is not installed.\r\n",
            "albumentations 1.4.0 requires numpy>=1.24.4, but you have numpy 1.22.0 which is incompatible.\r\n",
            "apache-beam 2.46.0 requires dill<0.3.2,>=0.3.1.1, but you have dill 0.3.8 which is incompatible.\r\n",
            "apache-beam 2.46.0 requires pyarrow<10.0.0,>=3.0.0, but you have pyarrow 11.0.0 which is incompatible.\r\n",
            "arviz 0.17.1 requires pandas>=1.4.0, but you have pandas 1.3.5 which is incompatible.\r\n",
            "beatrix-jupyterlab 2023.128.151533 requires jupyterlab~=3.6.0, but you have jupyterlab 4.1.5 which is incompatible.\r\n",
            "chex 0.1.85 requires numpy>=1.24.1, but you have numpy 1.22.0 which is incompatible.\r\n",
            "cudf 23.8.0 requires cuda-python<12.0a0,>=11.7.1, but you have cuda-python 12.4.0 which is incompatible.\r\n",
            "cudf 23.8.0 requires protobuf<5,>=4.21, but you have protobuf 3.20.3 which is incompatible.\r\n",
            "cuml 23.8.0 requires dask==2023.7.1, but you have dask 2024.3.1 which is incompatible.\r\n",
            "dask-cuda 23.8.0 requires dask==2023.7.1, but you have dask 2024.3.1 which is incompatible.\r\n",
            "dask-cudf 23.8.0 requires dask==2023.7.1, but you have dask 2024.3.1 which is incompatible.\r\n",
            "dask-expr 1.0.4 requires pandas>=2, but you have pandas 1.3.5 which is incompatible.\r\n",
            "datasets 2.1.0 requires tqdm>=4.62.1, but you have tqdm 4.62.0 which is incompatible.\r\n",
            "dipy 1.9.0 requires numpy>=1.22.4, but you have numpy 1.22.0 which is incompatible.\r\n",
            "esda 2.5.1 requires pandas>1.4, but you have pandas 1.3.5 which is incompatible.\r\n",
            "featuretools 1.30.0 requires numpy>=1.25.0, but you have numpy 1.22.0 which is incompatible.\r\n",
            "featuretools 1.30.0 requires pandas>=2.0.0, but you have pandas 1.3.5 which is incompatible.\r\n",
            "fitter 1.7.0 requires tqdm<5.0.0,>=4.65.1, but you have tqdm 4.62.0 which is incompatible.\r\n",
            "geopandas 0.14.3 requires pandas>=1.4.0, but you have pandas 1.3.5 which is incompatible.\r\n",
            "inequality 1.0.1 requires numpy>=1.23, but you have numpy 1.22.0 which is incompatible.\r\n",
            "libpysal 4.9.2 requires packaging>=22, but you have packaging 21.3 which is incompatible.\r\n",
            "libpysal 4.9.2 requires pandas>=1.4, but you have pandas 1.3.5 which is incompatible.\r\n",
            "libpysal 4.9.2 requires shapely>=2.0.1, but you have shapely 1.8.5.post1 which is incompatible.\r\n",
            "librosa 0.10.1 requires numpy!=1.22.0,!=1.22.1,!=1.22.2,>=1.20.3, but you have numpy 1.22.0 which is incompatible.\r\n",
            "mapclassify 2.6.1 requires numpy>=1.23, but you have numpy 1.22.0 which is incompatible.\r\n",
            "mapclassify 2.6.1 requires pandas!=1.5.0,>=1.4, but you have pandas 1.3.5 which is incompatible.\r\n",
            "mizani 0.11.0 requires numpy>=1.23.0, but you have numpy 1.22.0 which is incompatible.\r\n",
            "mizani 0.11.0 requires pandas>=2.1.0, but you have pandas 1.3.5 which is incompatible.\r\n",
            "momepy 0.7.0 requires shapely>=2, but you have shapely 1.8.5.post1 which is incompatible.\r\n",
            "momepy 0.7.0 requires tqdm>=4.63.0, but you have tqdm 4.62.0 which is incompatible.\r\n",
            "osmnx 1.9.1 requires shapely>=2.0, but you have shapely 1.8.5.post1 which is incompatible.\r\n",
            "plotnine 0.13.2 requires numpy>=1.23.0, but you have numpy 1.22.0 which is incompatible.\r\n",
            "plotnine 0.13.2 requires pandas<3.0.0,>=2.1.0, but you have pandas 1.3.5 which is incompatible.\r\n",
            "pyldavis 3.4.1 requires numpy>=1.24.2, but you have numpy 1.22.0 which is incompatible.\r\n",
            "pyldavis 3.4.1 requires pandas>=2.0.0, but you have pandas 1.3.5 which is incompatible.\r\n",
            "pylibraft 23.8.0 requires cuda-python<12.0a0,>=11.7.1, but you have cuda-python 12.4.0 which is incompatible.\r\n",
            "pywavelets 1.5.0 requires numpy<2.0,>=1.22.4, but you have numpy 1.22.0 which is incompatible.\r\n",
            "raft-dask 23.8.0 requires dask==2023.7.1, but you have dask 2024.3.1 which is incompatible.\r\n",
            "rmm 23.8.0 requires cuda-python<12.0a0,>=11.7.1, but you have cuda-python 12.4.0 which is incompatible.\r\n",
            "spaghetti 1.7.5.post1 requires pandas!=1.5.0,>=1.4, but you have pandas 1.3.5 which is incompatible.\r\n",
            "spglm 1.1.0 requires numpy>=1.23, but you have numpy 1.22.0 which is incompatible.\r\n",
            "spopt 0.6.0 requires pandas!=1.5.0,>=1.4, but you have pandas 1.3.5 which is incompatible.\r\n",
            "spopt 0.6.0 requires shapely>=2.0.1, but you have shapely 1.8.5.post1 which is incompatible.\r\n",
            "spopt 0.6.0 requires tqdm>=4.63.0, but you have tqdm 4.62.0 which is incompatible.\r\n",
            "spreg 1.4.2 requires numpy>=1.23, but you have numpy 1.22.0 which is incompatible.\r\n",
            "tensorflow 2.15.0 requires keras<2.16,>=2.15.0, but you have keras 3.0.5 which is incompatible.\r\n",
            "tensorflow 2.15.0 requires numpy<2.0.0,>=1.23.5, but you have numpy 1.22.0 which is incompatible.\r\n",
            "tensorstore 0.1.56 requires ml-dtypes>=0.3.1, but you have ml-dtypes 0.2.0 which is incompatible.\r\n",
            "woodwork 0.29.0 requires numpy>=1.25.0, but you have numpy 1.22.0 which is incompatible.\r\n",
            "woodwork 0.29.0 requires pandas>=1.4.3, but you have pandas 1.3.5 which is incompatible.\r\n",
            "xarray 2024.2.0 requires numpy>=1.23, but you have numpy 1.22.0 which is incompatible.\r\n",
            "xarray 2024.2.0 requires packaging>=22, but you have packaging 21.3 which is incompatible.\r\n",
            "xarray 2024.2.0 requires pandas>=1.5, but you have pandas 1.3.5 which is incompatible.\u001b[0m\u001b[31m\r\n",
            "\u001b[0mSuccessfully installed numpy-1.22.0 pandas-1.3.5 ptflops-0.7.2.2 rna-fm-0.2.1 tqdm-4.62.0\r\n",
            "Requirement already satisfied: numpy in /opt/conda/lib/python3.10/site-packages (1.22.0)\r\n",
            "Collecting numpy\r\n",
            "  Downloading numpy-1.26.4-cp310-cp310-manylinux_2_17_x86_64.manylinux2014_x86_64.whl.metadata (61 kB)\r\n",
            "\u001b[2K     \u001b[90m━━━━━━━━━━━━━━━━━━━━━━━━━━━━━━━━━━━━━━━━\u001b[0m \u001b[32m61.0/61.0 kB\u001b[0m \u001b[31m2.0 MB/s\u001b[0m eta \u001b[36m0:00:00\u001b[0m\r\n",
            "\u001b[?25hDownloading numpy-1.26.4-cp310-cp310-manylinux_2_17_x86_64.manylinux2014_x86_64.whl (18.2 MB)\r\n",
            "\u001b[2K   \u001b[90m━━━━━━━━━━━━━━━━━━━━━━━━━━━━━━━━━━━━━━━━\u001b[0m \u001b[32m18.2/18.2 MB\u001b[0m \u001b[31m70.5 MB/s\u001b[0m eta \u001b[36m0:00:00\u001b[0m\r\n",
            "\u001b[?25hInstalling collected packages: numpy\r\n",
            "  Attempting uninstall: numpy\r\n",
            "    Found existing installation: numpy 1.22.0\r\n",
            "    Uninstalling numpy-1.22.0:\r\n",
            "      Successfully uninstalled numpy-1.22.0\r\n",
            "\u001b[31mERROR: pip's dependency resolver does not currently take into account all the packages that are installed. This behaviour is the source of the following dependency conflicts.\r\n",
            "cudf 23.8.0 requires cubinlinker, which is not installed.\r\n",
            "cudf 23.8.0 requires cupy-cuda11x>=12.0.0, which is not installed.\r\n",
            "cudf 23.8.0 requires ptxcompiler, which is not installed.\r\n",
            "cuml 23.8.0 requires cupy-cuda11x>=12.0.0, which is not installed.\r\n",
            "dask-cudf 23.8.0 requires cupy-cuda11x>=12.0.0, which is not installed.\r\n",
            "keras-nlp 0.8.2 requires keras-core, which is not installed.\r\n",
            "tensorflow-decision-forests 1.8.1 requires wurlitzer, which is not installed.\r\n",
            "apache-beam 2.46.0 requires dill<0.3.2,>=0.3.1.1, but you have dill 0.3.8 which is incompatible.\r\n",
            "apache-beam 2.46.0 requires numpy<1.25.0,>=1.14.3, but you have numpy 1.26.4 which is incompatible.\r\n",
            "apache-beam 2.46.0 requires pyarrow<10.0.0,>=3.0.0, but you have pyarrow 11.0.0 which is incompatible.\r\n",
            "arviz 0.17.1 requires pandas>=1.4.0, but you have pandas 1.3.5 which is incompatible.\r\n",
            "cudf 23.8.0 requires cuda-python<12.0a0,>=11.7.1, but you have cuda-python 12.4.0 which is incompatible.\r\n",
            "cudf 23.8.0 requires protobuf<5,>=4.21, but you have protobuf 3.20.3 which is incompatible.\r\n",
            "cuml 23.8.0 requires dask==2023.7.1, but you have dask 2024.3.1 which is incompatible.\r\n",
            "dask-cuda 23.8.0 requires dask==2023.7.1, but you have dask 2024.3.1 which is incompatible.\r\n",
            "dask-cudf 23.8.0 requires dask==2023.7.1, but you have dask 2024.3.1 which is incompatible.\r\n",
            "datasets 2.1.0 requires tqdm>=4.62.1, but you have tqdm 4.62.0 which is incompatible.\r\n",
            "featuretools 1.30.0 requires pandas>=2.0.0, but you have pandas 1.3.5 which is incompatible.\r\n",
            "fitter 1.7.0 requires tqdm<5.0.0,>=4.65.1, but you have tqdm 4.62.0 which is incompatible.\r\n",
            "libpysal 4.9.2 requires packaging>=22, but you have packaging 21.3 which is incompatible.\r\n",
            "libpysal 4.9.2 requires pandas>=1.4, but you have pandas 1.3.5 which is incompatible.\r\n",
            "libpysal 4.9.2 requires shapely>=2.0.1, but you have shapely 1.8.5.post1 which is incompatible.\r\n",
            "mapclassify 2.6.1 requires pandas!=1.5.0,>=1.4, but you have pandas 1.3.5 which is incompatible.\r\n",
            "mizani 0.11.0 requires pandas>=2.1.0, but you have pandas 1.3.5 which is incompatible.\r\n",
            "momepy 0.7.0 requires shapely>=2, but you have shapely 1.8.5.post1 which is incompatible.\r\n",
            "momepy 0.7.0 requires tqdm>=4.63.0, but you have tqdm 4.62.0 which is incompatible.\r\n",
            "osmnx 1.9.1 requires shapely>=2.0, but you have shapely 1.8.5.post1 which is incompatible.\r\n",
            "plotnine 0.13.2 requires pandas<3.0.0,>=2.1.0, but you have pandas 1.3.5 which is incompatible.\r\n",
            "pyldavis 3.4.1 requires pandas>=2.0.0, but you have pandas 1.3.5 which is incompatible.\r\n",
            "pylibraft 23.8.0 requires cuda-python<12.0a0,>=11.7.1, but you have cuda-python 12.4.0 which is incompatible.\r\n",
            "raft-dask 23.8.0 requires dask==2023.7.1, but you have dask 2024.3.1 which is incompatible.\r\n",
            "rmm 23.8.0 requires cuda-python<12.0a0,>=11.7.1, but you have cuda-python 12.4.0 which is incompatible.\r\n",
            "rna-fm 0.2.1 requires numpy==1.22.0, but you have numpy 1.26.4 which is incompatible.\r\n",
            "spaghetti 1.7.5.post1 requires pandas!=1.5.0,>=1.4, but you have pandas 1.3.5 which is incompatible.\r\n",
            "spopt 0.6.0 requires pandas!=1.5.0,>=1.4, but you have pandas 1.3.5 which is incompatible.\r\n",
            "spopt 0.6.0 requires shapely>=2.0.1, but you have shapely 1.8.5.post1 which is incompatible.\r\n",
            "spopt 0.6.0 requires tqdm>=4.63.0, but you have tqdm 4.62.0 which is incompatible.\r\n",
            "tensorflow 2.15.0 requires keras<2.16,>=2.15.0, but you have keras 3.0.5 which is incompatible.\r\n",
            "tensorstore 0.1.56 requires ml-dtypes>=0.3.1, but you have ml-dtypes 0.2.0 which is incompatible.\r\n",
            "woodwork 0.29.0 requires pandas>=1.4.3, but you have pandas 1.3.5 which is incompatible.\r\n",
            "xarray 2024.2.0 requires packaging>=22, but you have packaging 21.3 which is incompatible.\r\n",
            "xarray 2024.2.0 requires pandas>=1.5, but you have pandas 1.3.5 which is incompatible.\r\n",
            "ydata-profiling 4.6.4 requires numpy<1.26,>=1.16.0, but you have numpy 1.26.4 which is incompatible.\u001b[0m\u001b[31m\r\n",
            "\u001b[0mSuccessfully installed numpy-1.26.4\r\n",
            "Collecting biopython\r\n",
            "  Downloading biopython-1.83-cp310-cp310-manylinux_2_17_x86_64.manylinux2014_x86_64.whl.metadata (13 kB)\r\n",
            "Requirement already satisfied: numpy in /opt/conda/lib/python3.10/site-packages (from biopython) (1.26.4)\r\n",
            "Downloading biopython-1.83-cp310-cp310-manylinux_2_17_x86_64.manylinux2014_x86_64.whl (3.1 MB)\r\n",
            "\u001b[2K   \u001b[90m━━━━━━━━━━━━━━━━━━━━━━━━━━━━━━━━━━━━━━━━\u001b[0m \u001b[32m3.1/3.1 MB\u001b[0m \u001b[31m29.0 MB/s\u001b[0m eta \u001b[36m0:00:00\u001b[0m\r\n",
            "\u001b[?25hInstalling collected packages: biopython\r\n",
            "Successfully installed biopython-1.83\r\n"
          ]
        }
      ],
      "source": [
        "!pip install rna-fm\n",
        "!pip install -U numpy\n",
        "!pip install biopython"
      ]
    },
    {
      "cell_type": "markdown",
      "id": "93158b33",
      "metadata": {
        "id": "93158b33",
        "papermill": {
          "duration": 0.021699,
          "end_time": "2024-03-22T17:07:14.230102",
          "exception": false,
          "start_time": "2024-03-22T17:07:14.208403",
          "status": "completed"
        },
        "tags": []
      },
      "source": [
        "If pip install fails to install the required packages, we can also uncomment the following cell to install it from source."
      ]
    },
    {
      "cell_type": "code",
      "execution_count": null,
      "id": "c460f1e3",
      "metadata": {
        "execution": {
          "iopub.execute_input": "2024-03-22T17:07:14.275733Z",
          "iopub.status.busy": "2024-03-22T17:07:14.274768Z",
          "iopub.status.idle": "2024-03-22T17:07:14.279672Z",
          "shell.execute_reply": "2024-03-22T17:07:14.278698Z"
        },
        "id": "c460f1e3",
        "papermill": {
          "duration": 0.031503,
          "end_time": "2024-03-22T17:07:14.281871",
          "exception": false,
          "start_time": "2024-03-22T17:07:14.250368",
          "status": "completed"
        },
        "tags": []
      },
      "outputs": [],
      "source": [
        "# !git clone https://github.com/ml4bio/RNA-FM.git\n",
        "\n",
        "# !pwd\n",
        "# !ls\n",
        "# %cd /content/RNA-FM\n",
        "# !python setup.py install"
      ]
    },
    {
      "cell_type": "code",
      "execution_count": null,
      "id": "a91d63ff",
      "metadata": {
        "execution": {
          "iopub.execute_input": "2024-03-22T17:07:14.330560Z",
          "iopub.status.busy": "2024-03-22T17:07:14.329730Z",
          "iopub.status.idle": "2024-03-22T17:07:23.016907Z",
          "shell.execute_reply": "2024-03-22T17:07:23.016115Z"
        },
        "id": "a91d63ff",
        "papermill": {
          "duration": 8.713942,
          "end_time": "2024-03-22T17:07:23.019351",
          "exception": false,
          "start_time": "2024-03-22T17:07:14.305409",
          "status": "completed"
        },
        "tags": []
      },
      "outputs": [],
      "source": [
        "import fm  # for development with RNA-FM\n",
        "\n",
        "from pathlib import Path\n",
        "import glob\n",
        "\n",
        "import torch\n",
        "import torch.nn as nn\n",
        "from torch.utils.data import Dataset, DataLoader\n",
        "\n",
        "import numpy as np\n",
        "import math\n",
        "\n",
        "from Bio import SeqIO  # for file parsing\n",
        "\n",
        "from sklearn.manifold import TSNE  # for dimension reduction\n",
        "\n",
        "from sklearn.model_selection import train_test_split  # for splitting train/val/test\n",
        "\n",
        "from tqdm.notebook import tqdm  # for showing progress\n",
        "\n",
        "import matplotlib.pyplot as plt"
      ]
    },
    {
      "cell_type": "code",
      "execution_count": null,
      "id": "e3506bee",
      "metadata": {
        "execution": {
          "iopub.execute_input": "2024-03-22T17:07:23.063264Z",
          "iopub.status.busy": "2024-03-22T17:07:23.062221Z",
          "iopub.status.idle": "2024-03-22T17:07:23.114398Z",
          "shell.execute_reply": "2024-03-22T17:07:23.113451Z"
        },
        "id": "e3506bee",
        "outputId": "d9a16848-1333-4124-b4c4-ad05c612d0bf",
        "papermill": {
          "duration": 0.076444,
          "end_time": "2024-03-22T17:07:23.116528",
          "exception": false,
          "start_time": "2024-03-22T17:07:23.040084",
          "status": "completed"
        },
        "tags": []
      },
      "outputs": [
        {
          "name": "stdout",
          "output_type": "stream",
          "text": [
            "using cuda device\n"
          ]
        }
      ],
      "source": [
        "if torch.cuda.is_available():\n",
        "    device = 'cuda'\n",
        "else:\n",
        "    device = 'cpu'\n",
        "\n",
        "print(f'using {device} device')\n",
        "\n",
        "data_dir = '/content'  # for Colab\n",
        "# data_dir = '../input/rnafm-tutorial/'"
      ]
    },
    {
      "cell_type": "markdown",
      "id": "d60c147d",
      "metadata": {
        "id": "d60c147d",
        "papermill": {
          "duration": 0.020663,
          "end_time": "2024-03-22T17:07:23.157985",
          "exception": false,
          "start_time": "2024-03-22T17:07:23.137322",
          "status": "completed"
        },
        "tags": []
      },
      "source": [
        "## Task 1. RNA Family Clustering"
      ]
    },
    {
      "cell_type": "markdown",
      "id": "e4b3444a",
      "metadata": {
        "id": "e4b3444a",
        "papermill": {
          "duration": 0.022755,
          "end_time": "2024-03-22T17:07:23.201584",
          "exception": false,
          "start_time": "2024-03-22T17:07:23.178829",
          "status": "completed"
        },
        "tags": []
      },
      "source": [
        "### Load data"
      ]
    },
    {
      "cell_type": "code",
      "execution_count": null,
      "id": "6fe850af",
      "metadata": {
        "execution": {
          "iopub.execute_input": "2024-03-22T17:07:23.243769Z",
          "iopub.status.busy": "2024-03-22T17:07:23.243103Z",
          "iopub.status.idle": "2024-03-22T17:07:23.252020Z",
          "shell.execute_reply": "2024-03-22T17:07:23.250997Z"
        },
        "id": "6fe850af",
        "outputId": "1d4de78d-f33f-4050-a901-abd39401e154",
        "papermill": {
          "duration": 0.032249,
          "end_time": "2024-03-22T17:07:23.253975",
          "exception": false,
          "start_time": "2024-03-22T17:07:23.221726",
          "status": "completed"
        },
        "tags": []
      },
      "outputs": [
        {
          "name": "stdout",
          "output_type": "stream",
          "text": [
            "3\n"
          ]
        }
      ],
      "source": [
        "# load fasta data\n",
        "fasta_paths = glob.glob(Path(data_dir, 'RF*.fasta'))\n",
        "fasta_paths.sort()\n",
        "print(len(fasta_paths))"
      ]
    },
    {
      "cell_type": "code",
      "execution_count": null,
      "id": "da8e8d9c",
      "metadata": {
        "execution": {
          "iopub.execute_input": "2024-03-22T17:07:23.296400Z",
          "iopub.status.busy": "2024-03-22T17:07:23.295736Z",
          "iopub.status.idle": "2024-03-22T17:07:23.350363Z",
          "shell.execute_reply": "2024-03-22T17:07:23.349283Z"
        },
        "id": "da8e8d9c",
        "outputId": "66266e1a-711a-4fba-d366-91f317532d50",
        "papermill": {
          "duration": 0.077909,
          "end_time": "2024-03-22T17:07:23.352419",
          "exception": false,
          "start_time": "2024-03-22T17:07:23.274510",
          "status": "completed"
        },
        "tags": []
      },
      "outputs": [
        {
          "name": "stdout",
          "output_type": "stream",
          "text": [
            "RF00001\n",
            "712 712\n",
            "RF00005\n",
            "1666 1666\n",
            "RF00010\n",
            "2124 2124\n"
          ]
        }
      ],
      "source": [
        "rfam_list = []  # list of RNA families\n",
        "\n",
        "seqs = []  # list of two-element tuples [(sequence ID, sequence),]\n",
        "labels = []  # list of labels correspond to each entry in the seqs list, the labels are the RNA families\n",
        "\n",
        "for fasta_path in fasta_paths:\n",
        "    rfam = Path(fasta_path).stem\n",
        "    rfam_list.append(rfam)\n",
        "    print(rfam)\n",
        "\n",
        "    records = list(SeqIO.parse(fasta_path, 'fasta'))\n",
        "\n",
        "    fasta_seqs = [str(record.seq) for record in records]\n",
        "    fasta_seq_names = [record.id for record in records]\n",
        "\n",
        "    seqs += [(seq_name, seq) for seq_name, seq in zip(fasta_seq_names, fasta_seqs)]\n",
        "\n",
        "    labels += [rfam] * len(fasta_seq_names)\n",
        "\n",
        "    print(len(seqs), len(labels))"
      ]
    },
    {
      "cell_type": "code",
      "execution_count": null,
      "id": "c20050cb",
      "metadata": {
        "execution": {
          "iopub.execute_input": "2024-03-22T17:07:23.395195Z",
          "iopub.status.busy": "2024-03-22T17:07:23.394863Z",
          "iopub.status.idle": "2024-03-22T17:07:23.399406Z",
          "shell.execute_reply": "2024-03-22T17:07:23.398530Z"
        },
        "id": "c20050cb",
        "outputId": "a0e471db-f544-4fd9-fe32-22d6e0330084",
        "papermill": {
          "duration": 0.02832,
          "end_time": "2024-03-22T17:07:23.401622",
          "exception": false,
          "start_time": "2024-03-22T17:07:23.373302",
          "status": "completed"
        },
        "tags": []
      },
      "outputs": [
        {
          "name": "stdout",
          "output_type": "stream",
          "text": [
            "[('X01556.1/3-118', 'CUUGACGAUCAUAGAGCGUUGGAACCACCUGAUCCCUUCCCGAACUCAGAAGUGAAACGACGCAUCGCCGAUGGUAGUGUGGGGUUUCCCCAUGUGAGAGUAGGUCAUCGUCAAGC'), ('X55260.1/3-119', 'UACGGCGGCCAUAGCGAAGGGGAAAUACCCGGUCCCAUCCCGAACCCGGAAGUCAAGCCCUUCAGCGCCGAUGGUACUGCAACCGAGAGGCUGUGGGAGAGUAGGACGCCGCCGGAC')]\n"
          ]
        }
      ],
      "source": [
        "# examine the data\n",
        "print(seqs[:2])"
      ]
    },
    {
      "cell_type": "markdown",
      "id": "4bc416bc",
      "metadata": {
        "id": "4bc416bc",
        "papermill": {
          "duration": 0.020743,
          "end_time": "2024-03-22T17:07:23.442927",
          "exception": false,
          "start_time": "2024-03-22T17:07:23.422184",
          "status": "completed"
        },
        "tags": []
      },
      "source": [
        "### Load the pretrained model"
      ]
    },
    {
      "cell_type": "code",
      "execution_count": null,
      "id": "8d413fc0",
      "metadata": {
        "execution": {
          "iopub.execute_input": "2024-03-22T17:07:23.486477Z",
          "iopub.status.busy": "2024-03-22T17:07:23.486112Z",
          "iopub.status.idle": "2024-03-22T17:07:23.490171Z",
          "shell.execute_reply": "2024-03-22T17:07:23.489306Z"
        },
        "id": "8d413fc0",
        "papermill": {
          "duration": 0.027954,
          "end_time": "2024-03-22T17:07:23.491997",
          "exception": false,
          "start_time": "2024-03-22T17:07:23.464043",
          "status": "completed"
        },
        "tags": []
      },
      "outputs": [],
      "source": [
        "!gdown 1zflX5hHTxuwqcZm6A1npq7ubP8m7LdNX  # for Colab"
      ]
    },
    {
      "cell_type": "code",
      "execution_count": null,
      "id": "649789dd",
      "metadata": {
        "execution": {
          "iopub.execute_input": "2024-03-22T17:07:23.534826Z",
          "iopub.status.busy": "2024-03-22T17:07:23.534347Z",
          "iopub.status.idle": "2024-03-22T17:07:33.086218Z",
          "shell.execute_reply": "2024-03-22T17:07:33.085355Z"
        },
        "id": "649789dd",
        "outputId": "f7d087a1-c802-49df-9156-7069099a9c02",
        "papermill": {
          "duration": 9.576,
          "end_time": "2024-03-22T17:07:33.088692",
          "exception": false,
          "start_time": "2024-03-22T17:07:23.512692",
          "status": "completed"
        },
        "tags": []
      },
      "outputs": [
        {
          "data": {
            "text/plain": [
              "BioBertModel(\n",
              "  (embed_tokens): Embedding(25, 640, padding_idx=1)\n",
              "  (layers): ModuleList(\n",
              "    (0-11): 12 x TransformerLayer(\n",
              "      (self_attn): MultiheadAttention(\n",
              "        (k_proj): Linear(in_features=640, out_features=640, bias=True)\n",
              "        (v_proj): Linear(in_features=640, out_features=640, bias=True)\n",
              "        (q_proj): Linear(in_features=640, out_features=640, bias=True)\n",
              "        (out_proj): Linear(in_features=640, out_features=640, bias=True)\n",
              "      )\n",
              "      (self_attn_layer_norm): LayerNorm((640,), eps=1e-05, elementwise_affine=True)\n",
              "      (fc1): Linear(in_features=640, out_features=5120, bias=True)\n",
              "      (fc2): Linear(in_features=5120, out_features=640, bias=True)\n",
              "      (final_layer_norm): LayerNorm((640,), eps=1e-05, elementwise_affine=True)\n",
              "    )\n",
              "  )\n",
              "  (contact_head): ContactPredictionHead(\n",
              "    (regression): Linear(in_features=240, out_features=1, bias=True)\n",
              "    (activation): Sigmoid()\n",
              "  )\n",
              "  (embed_positions): LearnedPositionalEmbedding(1026, 640, padding_idx=1)\n",
              "  (emb_layer_norm_before): LayerNorm((640,), eps=1e-05, elementwise_affine=True)\n",
              "  (emb_layer_norm_after): LayerNorm((640,), eps=1e-05, elementwise_affine=True)\n",
              "  (lm_head): RobertaLMHead(\n",
              "    (dense): Linear(in_features=640, out_features=640, bias=True)\n",
              "    (layer_norm): LayerNorm((640,), eps=1e-05, elementwise_affine=True)\n",
              "  )\n",
              ")"
            ]
          },
          "execution_count": 9,
          "metadata": {},
          "output_type": "execute_result"
        }
      ],
      "source": [
        "# Load RNA-FM model\n",
        "fm_model, alphabet = fm.pretrained.rna_fm_t12(Path(data_dir, 'RNA-FM_pretrained.pth'))\n",
        "batch_converter = alphabet.get_batch_converter()\n",
        "\n",
        "fm_model.to(device)  # use GPU if available\n",
        "\n",
        "fm_model.eval()  # disables dropout for deterministic results"
      ]
    },
    {
      "cell_type": "markdown",
      "id": "6c85c99a",
      "metadata": {
        "id": "6c85c99a",
        "papermill": {
          "duration": 0.02179,
          "end_time": "2024-03-22T17:07:33.132445",
          "exception": false,
          "start_time": "2024-03-22T17:07:33.110655",
          "status": "completed"
        },
        "tags": []
      },
      "source": [
        "### Retrieve RNA-FM embeddings"
      ]
    },
    {
      "cell_type": "code",
      "execution_count": null,
      "id": "ef53e397",
      "metadata": {
        "execution": {
          "iopub.execute_input": "2024-03-22T17:07:33.177140Z",
          "iopub.status.busy": "2024-03-22T17:07:33.176773Z",
          "iopub.status.idle": "2024-03-22T17:07:51.943113Z",
          "shell.execute_reply": "2024-03-22T17:07:51.942201Z"
        },
        "id": "ef53e397",
        "outputId": "37988d49-5217-4cb1-df3f-669123569ae2",
        "papermill": {
          "duration": 18.791946,
          "end_time": "2024-03-22T17:07:51.945810",
          "exception": false,
          "start_time": "2024-03-22T17:07:33.153864",
          "status": "completed"
        },
        "tags": [],
        "colab": {
          "referenced_widgets": [
            "90e2ea55be4d42b5a9541c9ddd32c958"
          ]
        }
      },
      "outputs": [
        {
          "data": {
            "application/vnd.jupyter.widget-view+json": {
              "model_id": "90e2ea55be4d42b5a9541c9ddd32c958",
              "version_major": 2,
              "version_minor": 0
            },
            "text/plain": [
              "  0%|          | 0/107 [00:00<?, ?it/s]"
            ]
          },
          "metadata": {},
          "output_type": "display_data"
        },
        {
          "name": "stdout",
          "output_type": "stream",
          "text": [
            "(2124, 1024, 640)\n"
          ]
        }
      ],
      "source": [
        "chunk_size = 20\n",
        "\n",
        "# pre-allocate the space to save memory\n",
        "token_embeddings = np.zeros((len(labels), 1024, 640))\n",
        "\n",
        "# divide all the sequences into chunks for processing due to the GPU memory limit\n",
        "for i in tqdm(range(0, len(seqs), chunk_size)):\n",
        "    data = seqs[i:i+chunk_size]\n",
        "\n",
        "    batch_labels, batch_strs, batch_tokens = batch_converter(data)\n",
        "\n",
        "    # use GPU\n",
        "    with torch.no_grad():\n",
        "        results = fm_model(batch_tokens.to(device), repr_layers=[12])\n",
        "\n",
        "    emb = results['representations'][12].cpu().numpy()\n",
        "\n",
        "    token_embeddings[i:i+chunk_size, :emb.shape[1], :] = emb\n",
        "\n",
        "\n",
        "print(token_embeddings.shape)"
      ]
    },
    {
      "cell_type": "markdown",
      "id": "d36b8f54",
      "metadata": {
        "id": "d36b8f54",
        "papermill": {
          "duration": 0.021314,
          "end_time": "2024-03-22T17:07:51.989094",
          "exception": false,
          "start_time": "2024-03-22T17:07:51.967780",
          "status": "completed"
        },
        "tags": []
      },
      "source": [
        "### Dimension reduction"
      ]
    },
    {
      "cell_type": "code",
      "execution_count": null,
      "id": "9f74de8a",
      "metadata": {
        "execution": {
          "iopub.execute_input": "2024-03-22T17:07:52.032552Z",
          "iopub.status.busy": "2024-03-22T17:07:52.031889Z",
          "iopub.status.idle": "2024-03-22T17:07:55.840811Z",
          "shell.execute_reply": "2024-03-22T17:07:55.839834Z"
        },
        "id": "9f74de8a",
        "outputId": "7083fd9f-22dc-42e2-9f79-9688d8112d7b",
        "papermill": {
          "duration": 3.832534,
          "end_time": "2024-03-22T17:07:55.842776",
          "exception": false,
          "start_time": "2024-03-22T17:07:52.010242",
          "status": "completed"
        },
        "tags": []
      },
      "outputs": [
        {
          "name": "stdout",
          "output_type": "stream",
          "text": [
            "(2124, 640)\n"
          ]
        }
      ],
      "source": [
        "token_embeddings = np.mean(token_embeddings, axis=1)\n",
        "\n",
        "print(token_embeddings.shape)"
      ]
    },
    {
      "cell_type": "code",
      "execution_count": null,
      "id": "f32c597f",
      "metadata": {
        "execution": {
          "iopub.execute_input": "2024-03-22T17:07:55.933326Z",
          "iopub.status.busy": "2024-03-22T17:07:55.932586Z",
          "iopub.status.idle": "2024-03-22T17:08:05.016668Z",
          "shell.execute_reply": "2024-03-22T17:08:05.015663Z"
        },
        "id": "f32c597f",
        "papermill": {
          "duration": 9.154675,
          "end_time": "2024-03-22T17:08:05.018815",
          "exception": false,
          "start_time": "2024-03-22T17:07:55.864140",
          "status": "completed"
        },
        "tags": [],
        "outputId": "e2d2a96c-fd97-4f39-ed15-809c9b8f1005"
      },
      "outputs": [
        {
          "name": "stderr",
          "output_type": "stream",
          "text": [
            "Exception ignored on calling ctypes callback function: <function ThreadpoolController._find_libraries_with_dl_iterate_phdr.<locals>.match_library_callback at 0x7d0244a077f0>\n",
            "Traceback (most recent call last):\n",
            "  File \"/opt/conda/lib/python3.10/site-packages/threadpoolctl.py\", line 847, in match_library_callback\n",
            "    self._make_controller_from_path(filepath)\n",
            "  File \"/opt/conda/lib/python3.10/site-packages/threadpoolctl.py\", line 984, in _make_controller_from_path\n",
            "    lib_controller = controller_class(filepath=filepath, prefix=prefix)\n",
            "  File \"/opt/conda/lib/python3.10/site-packages/threadpoolctl.py\", line 111, in __init__\n",
            "    self.dynlib = ctypes.CDLL(filepath, mode=_RTLD_NOLOAD)\n",
            "  File \"/opt/conda/lib/python3.10/ctypes/__init__.py\", line 374, in __init__\n",
            "    self._handle = _dlopen(self._name, mode)\n",
            "OSError: dlopen() error\n"
          ]
        },
        {
          "name": "stdout",
          "output_type": "stream",
          "text": [
            "(2124, 2)\n"
          ]
        }
      ],
      "source": [
        "# t-SNE\n",
        "tsne = TSNE(n_components=2, random_state=42)  # n_components is the dimension of the reduced data\n",
        "\n",
        "embeddings = tsne.fit_transform(token_embeddings)\n",
        "\n",
        "print(embeddings.shape)"
      ]
    },
    {
      "cell_type": "markdown",
      "id": "80fb22ed",
      "metadata": {
        "id": "80fb22ed",
        "papermill": {
          "duration": 0.022317,
          "end_time": "2024-03-22T17:08:05.064457",
          "exception": false,
          "start_time": "2024-03-22T17:08:05.042140",
          "status": "completed"
        },
        "tags": []
      },
      "source": [
        "### Visualization"
      ]
    },
    {
      "cell_type": "code",
      "execution_count": null,
      "id": "90fc715e",
      "metadata": {
        "execution": {
          "iopub.execute_input": "2024-03-22T17:08:05.110498Z",
          "iopub.status.busy": "2024-03-22T17:08:05.110099Z",
          "iopub.status.idle": "2024-03-22T17:08:05.384034Z",
          "shell.execute_reply": "2024-03-22T17:08:05.383133Z"
        },
        "id": "90fc715e",
        "outputId": "779788e0-7d65-449d-d673-1e981aceeb6b",
        "papermill": {
          "duration": 0.30044,
          "end_time": "2024-03-22T17:08:05.386598",
          "exception": false,
          "start_time": "2024-03-22T17:08:05.086158",
          "status": "completed"
        },
        "tags": []
      },
      "outputs": [
        {
          "name": "stdout",
          "output_type": "stream",
          "text": [
            "['RF00001', 'RF00005', 'RF00010']\n",
            "0\n",
            "1\n",
            "2\n"
          ]
        },
        {
          "data": {
            "image/png": "[encoded data removed]",
            "text/plain": [
              "<Figure size 800x800 with 1 Axes>"
            ]
          },
          "metadata": {},
          "output_type": "display_data"
        }
      ],
      "source": [
        "colors = ['tab:blue', 'tab:orange', 'tab:red']\n",
        "rfam_dict = {'RF00001': '5S_rRNA', 'RF00005': 'tRNA', 'RF00010': 'RNaseP_bact_a'}  # map the Rfam index to name\n",
        "\n",
        "plt.figure(figsize=(8, 8))\n",
        "\n",
        "print(sorted(list(set(labels))))\n",
        "\n",
        "for i, label in enumerate(sorted(list(set(labels)))):\n",
        "    # find the data points corresponding to the current label\n",
        "    print(i)\n",
        "    indices = [j for j, l in enumerate(labels) if l == label]\n",
        "    plt.scatter(embeddings[indices, 0], embeddings[indices, 1], color=colors[i], s=5, alpha=0.5, label=rfam_dict[label])\n",
        "\n",
        "\n",
        "plt.legend()\n",
        "plt.xticks([])\n",
        "plt.yticks([])\n",
        "\n",
        "plt.show()"
      ]
    },
    {
      "cell_type": "markdown",
      "id": "78b7398e",
      "metadata": {
        "id": "78b7398e",
        "papermill": {
          "duration": 0.022604,
          "end_time": "2024-03-22T17:08:05.431742",
          "exception": false,
          "start_time": "2024-03-22T17:08:05.409138",
          "status": "completed"
        },
        "tags": []
      },
      "source": [
        "## Task 2. RNA Type Classification"
      ]
    },
    {
      "cell_type": "markdown",
      "id": "7a6af901",
      "metadata": {
        "id": "7a6af901",
        "papermill": {
          "duration": 0.022066,
          "end_time": "2024-03-22T17:08:05.476504",
          "exception": false,
          "start_time": "2024-03-22T17:08:05.454438",
          "status": "completed"
        },
        "tags": []
      },
      "source": [
        "### Load data"
      ]
    },
    {
      "cell_type": "code",
      "execution_count": null,
      "id": "6f3074f5",
      "metadata": {
        "execution": {
          "iopub.execute_input": "2024-03-22T17:08:05.522838Z",
          "iopub.status.busy": "2024-03-22T17:08:05.522026Z",
          "iopub.status.idle": "2024-03-22T17:08:05.738657Z",
          "shell.execute_reply": "2024-03-22T17:08:05.737511Z"
        },
        "id": "6f3074f5",
        "outputId": "352324ef-81c4-4ce5-bf46-896663f056d8",
        "papermill": {
          "duration": 0.241889,
          "end_time": "2024-03-22T17:08:05.740643",
          "exception": false,
          "start_time": "2024-03-22T17:08:05.498754",
          "status": "completed"
        },
        "tags": []
      },
      "outputs": [
        {
          "name": "stdout",
          "output_type": "stream",
          "text": [
            "1400 1400\n",
            "1400 1400\n",
            "number of classes: 28\n"
          ]
        }
      ],
      "source": [
        "fasta_path = Path(data_dir, 'format_rnacentral_active.100.sample-Max50.fasta')\n",
        "\n",
        "records = list(SeqIO.parse(fasta_path, 'fasta'))\n",
        "\n",
        "fasta_seqs = [str(record.seq) for record in records]\n",
        "fasta_seq_names = [record.id for record in records]\n",
        "\n",
        "print(len(fasta_seqs), len(fasta_seq_names))\n",
        "\n",
        "labels = [record.description.split()[1] for record in records]\n",
        "\n",
        "seqs = [(seq_name, seq) for seq_name, seq in zip(fasta_seq_names, fasta_seqs)]\n",
        "\n",
        "num_class = len(set(labels))\n",
        "\n",
        "print(len(seqs), len(labels))\n",
        "print(f'number of classes: {len(set(labels))}')\n",
        "\n",
        "label_to_num = {'miRNA': 0, 'snRNA': 1, 'other': 2, 'hammerhead_ribozyme': 3,\n",
        "                'telomerase_RNA': 4, 'antisense_RNA': 5, 'precursor_RNA': 6,\n",
        "                'tRNA': 7, 'snoRNA': 8, 'RNase_P_RNA': 9, 'pre_miRNA': 10,\n",
        "                'misc_RNA': 11, 'rRNA': 12, 'siRNA': 13, 'vault_RNA': 14,\n",
        "                'autocatalytically_spliced_intron': 15, 'guide_RNA': 16,\n",
        "                'Y_RNA': 17, 'scRNA': 18, 'sRNA': 19, 'scaRNA': 20,\n",
        "                'RNase_MRP_RNA': 21, 'tmRNA': 22, 'lncRNA': 23, 'ncRNA': 24,\n",
        "                'piRNA': 25, 'ribozyme': 26, 'SRP_RNA': 27}\n",
        "\n",
        "labels = [label_to_num[label] for label in labels]"
      ]
    },
    {
      "cell_type": "markdown",
      "id": "8a5899c9",
      "metadata": {
        "id": "8a5899c9",
        "papermill": {
          "duration": 0.022142,
          "end_time": "2024-03-22T17:08:05.785845",
          "exception": false,
          "start_time": "2024-03-22T17:08:05.763703",
          "status": "completed"
        },
        "tags": []
      },
      "source": [
        "### Retrieve RNA-FM embeddings"
      ]
    },
    {
      "cell_type": "markdown",
      "id": "37f07da6",
      "metadata": {
        "id": "37f07da6",
        "papermill": {
          "duration": 0.021953,
          "end_time": "2024-03-22T17:08:05.830168",
          "exception": false,
          "start_time": "2024-03-22T17:08:05.808215",
          "status": "completed"
        },
        "tags": []
      },
      "source": [
        "You don't need to download it again if you have already done so for the previous task."
      ]
    },
    {
      "cell_type": "code",
      "execution_count": null,
      "id": "faf20684",
      "metadata": {
        "execution": {
          "iopub.execute_input": "2024-03-22T17:08:05.877575Z",
          "iopub.status.busy": "2024-03-22T17:08:05.876740Z",
          "iopub.status.idle": "2024-03-22T17:08:06.842976Z",
          "shell.execute_reply": "2024-03-22T17:08:06.841836Z"
        },
        "id": "faf20684",
        "outputId": "54d10f95-bf21-462d-ecf9-04322d1a71c8",
        "papermill": {
          "duration": 0.992978,
          "end_time": "2024-03-22T17:08:06.845482",
          "exception": false,
          "start_time": "2024-03-22T17:08:05.852504",
          "status": "completed"
        },
        "tags": []
      },
      "outputs": [
        {
          "name": "stdout",
          "output_type": "stream",
          "text": [
            "/bin/bash: gdown: command not found\r\n"
          ]
        }
      ],
      "source": [
        "# !gdown 1zflX5hHTxuwqcZm6A1npq7ubP8m7LdNX  # for Colab"
      ]
    },
    {
      "cell_type": "code",
      "execution_count": null,
      "id": "6e6f0e46",
      "metadata": {
        "execution": {
          "iopub.execute_input": "2024-03-22T17:08:06.893509Z",
          "iopub.status.busy": "2024-03-22T17:08:06.893114Z",
          "iopub.status.idle": "2024-03-22T17:08:08.950427Z",
          "shell.execute_reply": "2024-03-22T17:08:08.949540Z"
        },
        "id": "6e6f0e46",
        "outputId": "1dac9979-cc8c-4bfa-91e5-c11f6381a946",
        "papermill": {
          "duration": 2.083974,
          "end_time": "2024-03-22T17:08:08.952414",
          "exception": false,
          "start_time": "2024-03-22T17:08:06.868440",
          "status": "completed"
        },
        "tags": []
      },
      "outputs": [
        {
          "data": {
            "text/plain": [
              "BioBertModel(\n",
              "  (embed_tokens): Embedding(25, 640, padding_idx=1)\n",
              "  (layers): ModuleList(\n",
              "    (0-11): 12 x TransformerLayer(\n",
              "      (self_attn): MultiheadAttention(\n",
              "        (k_proj): Linear(in_features=640, out_features=640, bias=True)\n",
              "        (v_proj): Linear(in_features=640, out_features=640, bias=True)\n",
              "        (q_proj): Linear(in_features=640, out_features=640, bias=True)\n",
              "        (out_proj): Linear(in_features=640, out_features=640, bias=True)\n",
              "      )\n",
              "      (self_attn_layer_norm): LayerNorm((640,), eps=1e-05, elementwise_affine=True)\n",
              "      (fc1): Linear(in_features=640, out_features=5120, bias=True)\n",
              "      (fc2): Linear(in_features=5120, out_features=640, bias=True)\n",
              "      (final_layer_norm): LayerNorm((640,), eps=1e-05, elementwise_affine=True)\n",
              "    )\n",
              "  )\n",
              "  (contact_head): ContactPredictionHead(\n",
              "    (regression): Linear(in_features=240, out_features=1, bias=True)\n",
              "    (activation): Sigmoid()\n",
              "  )\n",
              "  (embed_positions): LearnedPositionalEmbedding(1026, 640, padding_idx=1)\n",
              "  (emb_layer_norm_before): LayerNorm((640,), eps=1e-05, elementwise_affine=True)\n",
              "  (emb_layer_norm_after): LayerNorm((640,), eps=1e-05, elementwise_affine=True)\n",
              "  (lm_head): RobertaLMHead(\n",
              "    (dense): Linear(in_features=640, out_features=640, bias=True)\n",
              "    (layer_norm): LayerNorm((640,), eps=1e-05, elementwise_affine=True)\n",
              "  )\n",
              ")"
            ]
          },
          "execution_count": 16,
          "metadata": {},
          "output_type": "execute_result"
        }
      ],
      "source": [
        "# Load RNA-FM model\n",
        "fm_model, alphabet = fm.pretrained.rna_fm_t12(Path(data_dir, 'RNA-FM_pretrained.pth'))\n",
        "batch_converter = alphabet.get_batch_converter()\n",
        "\n",
        "fm_model.to(device)\n",
        "\n",
        "fm_model.eval()  # disables dropout for deterministic results"
      ]
    },
    {
      "cell_type": "code",
      "execution_count": null,
      "id": "44e79e63",
      "metadata": {
        "execution": {
          "iopub.execute_input": "2024-03-22T17:08:09.001333Z",
          "iopub.status.busy": "2024-03-22T17:08:09.000424Z",
          "iopub.status.idle": "2024-03-22T17:08:43.316779Z",
          "shell.execute_reply": "2024-03-22T17:08:43.315823Z"
        },
        "id": "44e79e63",
        "outputId": "4817a316-2690-4b59-b173-443c09279ebd",
        "papermill": {
          "duration": 34.345215,
          "end_time": "2024-03-22T17:08:43.320776",
          "exception": false,
          "start_time": "2024-03-22T17:08:08.975561",
          "status": "completed"
        },
        "tags": [],
        "colab": {
          "referenced_widgets": [
            "ec143638db3645e4b4ab35bc01e78071"
          ]
        }
      },
      "outputs": [
        {
          "data": {
            "application/vnd.jupyter.widget-view+json": {
              "model_id": "ec143638db3645e4b4ab35bc01e78071",
              "version_major": 2,
              "version_minor": 0
            },
            "text/plain": [
              "  0%|          | 0/28 [00:00<?, ?it/s]"
            ]
          },
          "metadata": {},
          "output_type": "display_data"
        },
        {
          "name": "stdout",
          "output_type": "stream",
          "text": [
            "(1400, 1024, 640)\n"
          ]
        }
      ],
      "source": [
        "chunk_size = 50\n",
        "\n",
        "# pre-allocate the space to save memory\n",
        "token_embeddings = np.zeros((len(labels), 1024, 640))\n",
        "\n",
        "# divide all the sequences into chunks for processing due to the GPU memory limit\n",
        "for i in tqdm(range(0, len(seqs), chunk_size)):\n",
        "    data = seqs[i:i+chunk_size]\n",
        "\n",
        "    # print(f'{i}-{i+chunk_size}/{len(seqs)}')\n",
        "\n",
        "    batch_labels, batch_strs, batch_tokens = batch_converter(data)\n",
        "\n",
        "    # use GPU\n",
        "    with torch.no_grad():\n",
        "        results = fm_model(batch_tokens.to(device), repr_layers=[12])\n",
        "\n",
        "    emb = results[\"representations\"][12].cpu().numpy()\n",
        "\n",
        "    token_embeddings[i:i+chunk_size, :emb.shape[1], :] = emb\n",
        "\n",
        "\n",
        "print(token_embeddings.shape)"
      ]
    },
    {
      "cell_type": "markdown",
      "id": "7a3fdf93",
      "metadata": {
        "id": "7a3fdf93",
        "papermill": {
          "duration": 0.023273,
          "end_time": "2024-03-22T17:08:43.367080",
          "exception": false,
          "start_time": "2024-03-22T17:08:43.343807",
          "status": "completed"
        },
        "tags": []
      },
      "source": [
        "### Construct the dataset and classifier"
      ]
    },
    {
      "cell_type": "code",
      "execution_count": null,
      "id": "79665bcc",
      "metadata": {
        "execution": {
          "iopub.execute_input": "2024-03-22T17:08:43.414721Z",
          "iopub.status.busy": "2024-03-22T17:08:43.414105Z",
          "iopub.status.idle": "2024-03-22T17:08:43.419965Z",
          "shell.execute_reply": "2024-03-22T17:08:43.419160Z"
        },
        "id": "79665bcc",
        "papermill": {
          "duration": 0.031931,
          "end_time": "2024-03-22T17:08:43.421735",
          "exception": false,
          "start_time": "2024-03-22T17:08:43.389804",
          "status": "completed"
        },
        "tags": []
      },
      "outputs": [],
      "source": [
        "class RNATypeDataset(Dataset):\n",
        "    def __init__(self, embeddings, labels):\n",
        "        self.embeddings = embeddings\n",
        "        self.labels = labels\n",
        "\n",
        "    def __len__(self):\n",
        "        return len(self.labels)\n",
        "\n",
        "    def __getitem__(self, idx):\n",
        "        # use the mean of the RNA-FM embedding along the sequence dimension\n",
        "        # so that all the embeddings are converted from (L, 640) -> (640,)\n",
        "        return np.mean(self.embeddings[idx], axis=0), self.labels[idx]"
      ]
    },
    {
      "cell_type": "code",
      "execution_count": null,
      "id": "9a6f9433",
      "metadata": {
        "execution": {
          "iopub.execute_input": "2024-03-22T17:08:43.470013Z",
          "iopub.status.busy": "2024-03-22T17:08:43.469678Z",
          "iopub.status.idle": "2024-03-22T17:08:43.475233Z",
          "shell.execute_reply": "2024-03-22T17:08:43.474408Z"
        },
        "id": "9a6f9433",
        "papermill": {
          "duration": 0.032238,
          "end_time": "2024-03-22T17:08:43.477288",
          "exception": false,
          "start_time": "2024-03-22T17:08:43.445050",
          "status": "completed"
        },
        "tags": []
      },
      "outputs": [],
      "source": [
        "class RNATypeClassifier(nn.Module):\n",
        "    def __init__(self, num_class):\n",
        "        super().__init__()\n",
        "        self.fc = nn.Linear(640, num_class)\n",
        "\n",
        "    def forward(self, x):\n",
        "        x = self.fc(x)\n",
        "\n",
        "        return x"
      ]
    },
    {
      "cell_type": "code",
      "execution_count": null,
      "id": "78ac4069",
      "metadata": {
        "execution": {
          "iopub.execute_input": "2024-03-22T17:08:43.528988Z",
          "iopub.status.busy": "2024-03-22T17:08:43.528639Z",
          "iopub.status.idle": "2024-03-22T17:08:48.599584Z",
          "shell.execute_reply": "2024-03-22T17:08:48.598227Z"
        },
        "id": "78ac4069",
        "outputId": "eba5da81-dcac-45d1-864d-80a46aecc2f5",
        "papermill": {
          "duration": 5.098544,
          "end_time": "2024-03-22T17:08:48.602096",
          "exception": false,
          "start_time": "2024-03-22T17:08:43.503552",
          "status": "completed"
        },
        "tags": []
      },
      "outputs": [
        {
          "name": "stdout",
          "output_type": "stream",
          "text": [
            "(896, 1024, 640) (224, 1024, 640) (280, 1024, 640)\n"
          ]
        }
      ],
      "source": [
        "# each class have 50 samples, use 30 for train, 10 for val, and 10 for test (achieved by using stratify)\n",
        "x_train_val, x_test, y_train_val, y_test = train_test_split(token_embeddings, labels,\n",
        "                                                            test_size=0.2, random_state=42, stratify=labels)\n",
        "\n",
        "x_train, x_val, y_train, y_val = train_test_split(x_train_val, y_train_val,\n",
        "                                                  test_size=0.2, random_state=42, stratify=y_train_val)\n",
        "\n",
        "print(x_train.shape, x_val.shape, x_test.shape)"
      ]
    },
    {
      "cell_type": "code",
      "execution_count": null,
      "id": "ff158f82",
      "metadata": {
        "execution": {
          "iopub.execute_input": "2024-03-22T17:08:48.656870Z",
          "iopub.status.busy": "2024-03-22T17:08:48.655924Z",
          "iopub.status.idle": "2024-03-22T17:08:48.664576Z",
          "shell.execute_reply": "2024-03-22T17:08:48.663433Z"
        },
        "id": "ff158f82",
        "outputId": "d38bc565-59bf-489a-ae79-7d5413d26467",
        "papermill": {
          "duration": 0.038275,
          "end_time": "2024-03-22T17:08:48.666842",
          "exception": false,
          "start_time": "2024-03-22T17:08:48.628567",
          "status": "completed"
        },
        "tags": []
      },
      "outputs": [
        {
          "name": "stdout",
          "output_type": "stream",
          "text": [
            "{0: 0.03571428571428571, 1: 0.03571428571428571, 2: 0.03571428571428571, 3: 0.03571428571428571, 4: 0.03571428571428571, 5: 0.03571428571428571, 6: 0.03571428571428571, 7: 0.03571428571428571, 8: 0.03571428571428571, 9: 0.03571428571428571, 10: 0.03571428571428571, 11: 0.03571428571428571, 12: 0.03571428571428571, 13: 0.03571428571428571, 14: 0.03571428571428571, 15: 0.03571428571428571, 16: 0.03571428571428571, 17: 0.03571428571428571, 18: 0.03571428571428571, 19: 0.03571428571428571, 20: 0.03571428571428571, 21: 0.03571428571428571, 22: 0.03571428571428571, 23: 0.03571428571428571, 24: 0.03571428571428571, 25: 0.03571428571428571, 26: 0.03571428571428571, 27: 0.03571428571428571}\n",
            "{0: 0.03571428571428571, 1: 0.03571428571428571, 2: 0.03571428571428571, 3: 0.03571428571428571, 4: 0.03571428571428571, 5: 0.03571428571428571, 6: 0.03571428571428571, 7: 0.03571428571428571, 8: 0.03571428571428571, 9: 0.03571428571428571, 10: 0.03571428571428571, 11: 0.03571428571428571, 12: 0.03571428571428571, 13: 0.03571428571428571, 14: 0.03571428571428571, 15: 0.03571428571428571, 16: 0.03571428571428571, 17: 0.03571428571428571, 18: 0.03571428571428571, 19: 0.03571428571428571, 20: 0.03571428571428571, 21: 0.03571428571428571, 22: 0.03571428571428571, 23: 0.03571428571428571, 24: 0.03571428571428571, 25: 0.03571428571428571, 26: 0.03571428571428571, 27: 0.03571428571428571}\n",
            "{0: 0.03571428571428571, 1: 0.03571428571428571, 2: 0.03571428571428571, 3: 0.03571428571428571, 4: 0.03571428571428571, 5: 0.03571428571428571, 6: 0.03571428571428571, 7: 0.03571428571428571, 8: 0.03571428571428571, 9: 0.03571428571428571, 10: 0.03571428571428571, 11: 0.03571428571428571, 12: 0.03571428571428571, 13: 0.03571428571428571, 14: 0.03571428571428571, 15: 0.03571428571428571, 16: 0.03571428571428571, 17: 0.03571428571428571, 18: 0.03571428571428571, 19: 0.03571428571428571, 20: 0.03571428571428571, 21: 0.03571428571428571, 22: 0.03571428571428571, 23: 0.03571428571428571, 24: 0.03571428571428571, 25: 0.03571428571428571, 26: 0.03571428571428571, 27: 0.03571428571428571}\n"
          ]
        }
      ],
      "source": [
        "def class_distribution(labels):\n",
        "    classes, counts = np.unique(labels, return_counts=True)\n",
        "    distribution = counts / counts.sum()\n",
        "    return dict(zip(classes, distribution))\n",
        "\n",
        "\n",
        "train_dist = class_distribution(y_train)\n",
        "val_dist = class_distribution(y_val)\n",
        "test_dist = class_distribution(y_test)\n",
        "\n",
        "print(train_dist)\n",
        "print(val_dist)\n",
        "print(test_dist)"
      ]
    },
    {
      "cell_type": "code",
      "execution_count": null,
      "id": "ea0450aa",
      "metadata": {
        "execution": {
          "iopub.execute_input": "2024-03-22T17:08:48.718046Z",
          "iopub.status.busy": "2024-03-22T17:08:48.717356Z",
          "iopub.status.idle": "2024-03-22T17:08:48.722271Z",
          "shell.execute_reply": "2024-03-22T17:08:48.721339Z"
        },
        "id": "ea0450aa",
        "papermill": {
          "duration": 0.032676,
          "end_time": "2024-03-22T17:08:48.724872",
          "exception": false,
          "start_time": "2024-03-22T17:08:48.692196",
          "status": "completed"
        },
        "tags": []
      },
      "outputs": [],
      "source": [
        "# hyper-parameters\n",
        "\n",
        "batch_size = 8\n",
        "lr = 1e-3\n",
        "epochs = 100"
      ]
    },
    {
      "cell_type": "code",
      "execution_count": null,
      "id": "488bee7b",
      "metadata": {
        "execution": {
          "iopub.execute_input": "2024-03-22T17:08:48.775124Z",
          "iopub.status.busy": "2024-03-22T17:08:48.774291Z",
          "iopub.status.idle": "2024-03-22T17:08:48.780419Z",
          "shell.execute_reply": "2024-03-22T17:08:48.779556Z"
        },
        "id": "488bee7b",
        "papermill": {
          "duration": 0.032852,
          "end_time": "2024-03-22T17:08:48.782314",
          "exception": false,
          "start_time": "2024-03-22T17:08:48.749462",
          "status": "completed"
        },
        "tags": []
      },
      "outputs": [],
      "source": [
        "train_dataset = RNATypeDataset(x_train, y_train)\n",
        "val_dataset = RNATypeDataset(x_val, y_val)\n",
        "test_dataset = RNATypeDataset(x_test, y_test)\n",
        "\n",
        "train_loader = DataLoader(train_dataset, batch_size=batch_size, shuffle=True)\n",
        "val_loader = DataLoader(val_dataset, batch_size=batch_size, shuffle=False)\n",
        "test_loader = DataLoader(test_dataset, batch_size=batch_size, shuffle=False)"
      ]
    },
    {
      "cell_type": "code",
      "execution_count": null,
      "id": "36f3f2ed",
      "metadata": {
        "execution": {
          "iopub.execute_input": "2024-03-22T17:08:48.830387Z",
          "iopub.status.busy": "2024-03-22T17:08:48.830059Z",
          "iopub.status.idle": "2024-03-22T17:08:48.837133Z",
          "shell.execute_reply": "2024-03-22T17:08:48.836086Z"
        },
        "id": "36f3f2ed",
        "outputId": "8bd4eaf7-1848-4af9-c279-63820845afda",
        "papermill": {
          "duration": 0.033428,
          "end_time": "2024-03-22T17:08:48.839074",
          "exception": false,
          "start_time": "2024-03-22T17:08:48.805646",
          "status": "completed"
        },
        "tags": []
      },
      "outputs": [
        {
          "name": "stdout",
          "output_type": "stream",
          "text": [
            "RNATypeClassifier(\n",
            "  (fc1): Linear(in_features=640, out_features=28, bias=True)\n",
            "  (relu): ReLU()\n",
            ")\n"
          ]
        }
      ],
      "source": [
        "model = RNATypeClassifier(num_class).to(device)\n",
        "print(model)\n",
        "\n",
        "criterion = nn.CrossEntropyLoss()\n",
        "\n",
        "optimizer = torch.optim.Adam(model.parameters(), lr=lr)"
      ]
    },
    {
      "cell_type": "markdown",
      "id": "3c380a88",
      "metadata": {
        "id": "3c380a88",
        "papermill": {
          "duration": 0.023415,
          "end_time": "2024-03-22T17:08:48.885614",
          "exception": false,
          "start_time": "2024-03-22T17:08:48.862199",
          "status": "completed"
        },
        "tags": []
      },
      "source": [
        "### Train the model"
      ]
    },
    {
      "cell_type": "code",
      "execution_count": null,
      "id": "88e45f6a",
      "metadata": {
        "execution": {
          "iopub.execute_input": "2024-03-22T17:08:48.934544Z",
          "iopub.status.busy": "2024-03-22T17:08:48.934180Z",
          "iopub.status.idle": "2024-03-22T17:10:09.988924Z",
          "shell.execute_reply": "2024-03-22T17:10:09.987857Z"
        },
        "id": "88e45f6a",
        "outputId": "64f71318-c1d5-4c70-f5ee-9ae6feaf84ee",
        "papermill": {
          "duration": 81.082274,
          "end_time": "2024-03-22T17:10:09.991300",
          "exception": false,
          "start_time": "2024-03-22T17:08:48.909026",
          "status": "completed"
        },
        "tags": [],
        "colab": {
          "referenced_widgets": [
            "bb612f3738804dc6b705cf58ba273919"
          ]
        }
      },
      "outputs": [
        {
          "data": {
            "application/vnd.jupyter.widget-view+json": {
              "model_id": "bb612f3738804dc6b705cf58ba273919",
              "version_major": 2,
              "version_minor": 0
            },
            "text/plain": [
              "  0%|          | 0/100 [00:00<?, ?it/s]"
            ]
          },
          "metadata": {},
          "output_type": "display_data"
        },
        {
          "name": "stdout",
          "output_type": "stream",
          "text": [
            "epoch 1/100: train loss=3.050085, train acc=0.311384, val loss=2.801211, val acc=0.375000\n",
            "epoch 21/100: train loss=1.743817, train acc=0.810268, val loss=1.736742, val acc=0.750000\n",
            "epoch 41/100: train loss=1.333420, train acc=0.876116, val loss=1.418566, val acc=0.781250\n",
            "epoch 61/100: train loss=1.101786, train acc=0.896205, val loss=1.249271, val acc=0.812500\n",
            "epoch 81/100: train loss=0.947265, train acc=0.919643, val loss=1.143016, val acc=0.821429\n"
          ]
        }
      ],
      "source": [
        "max_val_acc = -1\n",
        "best_epoch = -1\n",
        "\n",
        "train_loss_history = []\n",
        "val_loss_history = []\n",
        "\n",
        "train_acc_history = []\n",
        "val_acc_history = []\n",
        "\n",
        "for epoch in tqdm(range(epochs)):\n",
        "\n",
        "    # train the model\n",
        "    train_losses = []\n",
        "    train_preds = []\n",
        "    train_targets = []\n",
        "\n",
        "    model.train()\n",
        "\n",
        "    for batch in train_loader:\n",
        "        x, y = batch\n",
        "        x, y = x.to(device).float(), y.to(device).long()\n",
        "\n",
        "        # no need to apply the softmax function since it has been included in the loss function\n",
        "        y_pred = model(x)\n",
        "\n",
        "        # y_pred: (B, C) with class probabilities, y shape: (B,) with class indices\n",
        "        loss = criterion(y_pred, y)\n",
        "\n",
        "        train_losses.append(loss.item())\n",
        "        train_preds.append(torch.max(y_pred.detach(),1)[1])\n",
        "        train_targets.append(y)\n",
        "\n",
        "        optimizer.zero_grad()\n",
        "        loss.backward()\n",
        "        optimizer.step()\n",
        "\n",
        "    # validate the model\n",
        "    val_losses = []\n",
        "    val_preds = []\n",
        "    val_targets = []\n",
        "\n",
        "    model.eval()\n",
        "\n",
        "    for batch in val_loader:\n",
        "        x, y = batch\n",
        "        x, y = x.to(device).float(), y.to(device).long()\n",
        "\n",
        "        y_pred = model(x)\n",
        "\n",
        "        # y_pred: (B, C) with class probabilities, y shape: (B,) with class indices\n",
        "        loss = criterion(y_pred, y)\n",
        "\n",
        "        val_losses.append(loss.item())\n",
        "        val_preds.append(torch.max(y_pred.detach(),1)[1])\n",
        "        val_targets.append(y)\n",
        "\n",
        "    # calculate the accuracy\n",
        "    train_preds = torch.cat(train_preds, dim=0)\n",
        "    train_targets = torch.cat(train_targets, dim=0)\n",
        "    train_acc = (train_preds == train_targets).float().mean().cpu()\n",
        "\n",
        "    val_preds = torch.cat(val_preds, dim=0)\n",
        "    val_targets = torch.cat(val_targets, dim=0)\n",
        "    val_acc = (val_preds == val_targets).float().mean().cpu()\n",
        "\n",
        "    train_acc_history.append(train_acc)\n",
        "    val_acc_history.append(val_acc)\n",
        "\n",
        "    # save the model checkpoint for the best validation accuracy\n",
        "    if val_acc > max_val_acc:\n",
        "        torch.save({'model_state_dict': model.state_dict()}, 'rna_type_checkpoint.pt')\n",
        "        best_epoch = epoch\n",
        "        max_val_acc = val_acc\n",
        "\n",
        "    # show intermediate steps\n",
        "    if epoch % 20 == 1:\n",
        "        tqdm.write(f'epoch {epoch}/{epochs}: train loss={np.mean(train_loss_history):.6f}, '\n",
        "                   f'train acc={train_acc:.6f}, '\n",
        "                   f'val loss={np.mean(val_loss_history):.6f}, '\n",
        "                   f'val acc={val_acc:.6f}')\n",
        "\n",
        "    train_loss_history.append(np.mean(train_losses))\n",
        "    val_loss_history.append(np.mean(val_losses))"
      ]
    },
    {
      "cell_type": "markdown",
      "id": "76d52425",
      "metadata": {
        "id": "76d52425",
        "papermill": {
          "duration": 0.026998,
          "end_time": "2024-03-22T17:10:10.042327",
          "exception": false,
          "start_time": "2024-03-22T17:10:10.015329",
          "status": "completed"
        },
        "tags": []
      },
      "source": [
        "### Visualize training results"
      ]
    },
    {
      "cell_type": "code",
      "execution_count": null,
      "id": "274636a5",
      "metadata": {
        "execution": {
          "iopub.execute_input": "2024-03-22T17:10:10.107587Z",
          "iopub.status.busy": "2024-03-22T17:10:10.106722Z",
          "iopub.status.idle": "2024-03-22T17:10:10.420872Z",
          "shell.execute_reply": "2024-03-22T17:10:10.419907Z"
        },
        "id": "274636a5",
        "outputId": "2eedfd53-18d0-4fe1-b3bf-148773fc96cc",
        "papermill": {
          "duration": 0.347236,
          "end_time": "2024-03-22T17:10:10.423004",
          "exception": false,
          "start_time": "2024-03-22T17:10:10.075768",
          "status": "completed"
        },
        "tags": []
      },
      "outputs": [
        {
          "data": {
            "image/png": "[encoded data removed]",
            "text/plain": [
              "<Figure size 800x600 with 1 Axes>"
            ]
          },
          "metadata": {},
          "output_type": "display_data"
        }
      ],
      "source": [
        "plt.figure(figsize=(8, 6))\n",
        "\n",
        "plt.plot(train_loss_history, label='train loss')\n",
        "plt.plot(val_loss_history, label='val loss')\n",
        "\n",
        "# the epoch with best validation loss\n",
        "plt.axvline(x=best_epoch, color='r', linestyle='--', alpha=0.8)\n",
        "\n",
        "plt.xlabel('Epochs')\n",
        "plt.ylabel('Loss')\n",
        "plt.title('Loss History')\n",
        "\n",
        "plt.legend()\n",
        "\n",
        "plt.show()"
      ]
    },
    {
      "cell_type": "code",
      "execution_count": null,
      "id": "b5c618d0",
      "metadata": {
        "execution": {
          "iopub.execute_input": "2024-03-22T17:10:10.473708Z",
          "iopub.status.busy": "2024-03-22T17:10:10.473108Z",
          "iopub.status.idle": "2024-03-22T17:10:10.769629Z",
          "shell.execute_reply": "2024-03-22T17:10:10.768770Z"
        },
        "id": "b5c618d0",
        "outputId": "dd06f933-a761-4d54-bf3a-d22c7693f06c",
        "papermill": {
          "duration": 0.324263,
          "end_time": "2024-03-22T17:10:10.772142",
          "exception": false,
          "start_time": "2024-03-22T17:10:10.447879",
          "status": "completed"
        },
        "tags": []
      },
      "outputs": [
        {
          "data": {
            "image/png": "[encoded data removed]",
            "text/plain": [
              "<Figure size 800x600 with 1 Axes>"
            ]
          },
          "metadata": {},
          "output_type": "display_data"
        }
      ],
      "source": [
        "plt.figure(figsize=(8, 6))\n",
        "\n",
        "plt.plot(train_acc_history, label='train accuracy')\n",
        "plt.plot(val_acc_history, label='val accuracy')\n",
        "\n",
        "# the epoch with best validation accuracy\n",
        "plt.axvline(x=best_epoch, color='r', linestyle='--', alpha=0.8)\n",
        "\n",
        "plt.xlabel('Epochs')\n",
        "plt.ylabel('Accuracy')\n",
        "plt.title('Accuracy History')\n",
        "\n",
        "plt.legend()\n",
        "\n",
        "plt.show()"
      ]
    },
    {
      "cell_type": "markdown",
      "id": "42188f47",
      "metadata": {
        "id": "42188f47",
        "papermill": {
          "duration": 0.025624,
          "end_time": "2024-03-22T17:10:10.822742",
          "exception": false,
          "start_time": "2024-03-22T17:10:10.797118",
          "status": "completed"
        },
        "tags": []
      },
      "source": [
        "### Test the model"
      ]
    },
    {
      "cell_type": "code",
      "execution_count": null,
      "id": "e41983ce",
      "metadata": {
        "execution": {
          "iopub.execute_input": "2024-03-22T17:10:10.874435Z",
          "iopub.status.busy": "2024-03-22T17:10:10.873511Z",
          "iopub.status.idle": "2024-03-22T17:10:11.060481Z",
          "shell.execute_reply": "2024-03-22T17:10:11.059427Z"
        },
        "id": "e41983ce",
        "outputId": "81563930-78e6-4368-965b-2dee1d98d574",
        "papermill": {
          "duration": 0.215343,
          "end_time": "2024-03-22T17:10:11.062703",
          "exception": false,
          "start_time": "2024-03-22T17:10:10.847360",
          "status": "completed"
        },
        "tags": []
      },
      "outputs": [
        {
          "name": "stdout",
          "output_type": "stream",
          "text": [
            "total number of test data: 280, correct=219, test acc=0.7821\n"
          ]
        }
      ],
      "source": [
        "# test the model\n",
        "test_preds = []\n",
        "\n",
        "model.load_state_dict(torch.load('rna_type_checkpoint.pt')['model_state_dict'])\n",
        "\n",
        "model.eval()\n",
        "\n",
        "for batch in test_loader:\n",
        "    x, y = batch\n",
        "    x, y = x.to(device).float(), y.to(device).long()\n",
        "\n",
        "    output = model(x)\n",
        "\n",
        "    _, y_pred = torch.max(output.data, 1)  # argmax in y_pred\n",
        "    # print(y_pred.shape)\n",
        "\n",
        "    test_preds.append(y_pred.cpu().numpy())\n",
        "\n",
        "\n",
        "test_preds = np.concatenate(test_preds)\n",
        "\n",
        "total = len(y_test)\n",
        "correct = np.sum(test_preds == y_test)\n",
        "\n",
        "print(f'total number of test data: {total}, correct={correct}, test acc={correct/total:.4f}')"
      ]
    },
    {
      "cell_type": "code",
      "execution_count": null,
      "id": "9352c320",
      "metadata": {
        "id": "9352c320",
        "papermill": {
          "duration": 0.025072,
          "end_time": "2024-03-22T17:10:11.113246",
          "exception": false,
          "start_time": "2024-03-22T17:10:11.088174",
          "status": "completed"
        },
        "tags": []
      },
      "outputs": [],
      "source": []
    }
  ],
  "metadata": {
    "accelerator": "GPU",
    "colab": {
      "gpuType": "T4",
      "machine_shape": "hm",
      "provenance": [],
      "collapsed_sections": [
        "0eef8129",
        "d60c147d",
        "7a6af901"
      ]
    },
    "kaggle": {
      "accelerator": "gpu",
      "dataSources": [
        {
          "datasetId": 4650806,
          "sourceId": 7916214,
          "sourceType": "datasetVersion"
        }
      ],
      "dockerImageVersionId": 30674,
      "isGpuEnabled": true,
      "isInternetEnabled": true,
      "language": "python",
      "sourceType": "notebook"
    },
    "kernelspec": {
      "display_name": "Python 3",
      "language": "python",
      "name": "python3"
    },
    "language_info": {
      "codemirror_mode": {
        "name": "ipython",
        "version": 3
      },
      "file_extension": ".py",
      "mimetype": "text/x-python",
      "name": "python",
      "nbconvert_exporter": "python",
      "pygments_lexer": "ipython3",
      "version": "3.10.13"
    },
    "papermill": {
      "default_parameters": {},
      "duration": 242.258391,
      "end_time": "2024-03-22T17:10:13.963337",
      "environment_variables": {},
      "exception": null,
      "input_path": "__notebook__.ipynb",
      "output_path": "__notebook__.ipynb",
      "parameters": {},
      "start_time": "2024-03-22T17:06:11.704946",
      "version": "2.5.0"
    }
  },
  "nbformat": 4,
  "nbformat_minor": 5
}